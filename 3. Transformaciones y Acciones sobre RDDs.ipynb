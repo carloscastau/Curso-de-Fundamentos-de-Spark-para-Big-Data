{
 "cells": [
  {
   "cell_type": "markdown",
   "metadata": {},
   "source": [
    "# RDDs"
   ]
  },
  {
   "cell_type": "markdown",
   "metadata": {},
   "source": [
    "# Creamos un contexo para crear RDDs"
   ]
  },
  {
   "cell_type": "code",
   "execution_count": 1,
   "metadata": {},
   "outputs": [
    {
     "name": "stderr",
     "output_type": "stream",
     "text": [
      "24/01/18 12:40:58 WARN Utils: Your hostname, carloscastau resolves to a loopback address: 127.0.1.1; using 192.168.0.13 instead (on interface enp3s0)\n",
      "24/01/18 12:40:58 WARN Utils: Set SPARK_LOCAL_IP if you need to bind to another address\n",
      "Setting default log level to \"WARN\".\n",
      "To adjust logging level use sc.setLogLevel(newLevel). For SparkR, use setLogLevel(newLevel).\n",
      "24/01/18 12:40:58 WARN NativeCodeLoader: Unable to load native-hadoop library for your platform... using builtin-java classes where applicable\n"
     ]
    }
   ],
   "source": [
    "from pyspark import SparkContext\n",
    "sc = SparkContext(master = \"local\", appName = \"Transformaciones sobre un RDD\") "
   ]
  },
  {
   "cell_type": "markdown",
   "metadata": {},
   "source": [
    "# Cargamos un RDDs\n",
    "\n",
    "Para la realzación del ejercicio, con ayuda del archivo paises, realizaremos el equivalente de operaciones 'select','count','group by' y 'filter / where'\n",
    "\n",
    "Cambia el valor de la ruta para que apunte a la ruta donde tienes los datos"
   ]
  },
  {
   "cell_type": "code",
   "execution_count": 2,
   "metadata": {},
   "outputs": [],
   "source": [
    "path = \"./files/\"\n",
    "equiposOlimpicosRDD = sc.textFile(path+\"paises.csv\").map(lambda line : line.split(\",\"))"
   ]
  },
  {
   "cell_type": "code",
   "execution_count": 3,
   "metadata": {},
   "outputs": [
    {
     "name": "stderr",
     "output_type": "stream",
     "text": [
      "                                                                                \r"
     ]
    },
    {
     "data": {
      "text/plain": [
       "[['id', 'equipo', 'sigla'],\n",
       " ['1', '30. Februar', 'AUT'],\n",
       " ['2', 'A North American Team', 'MEX'],\n",
       " ['3', 'Acipactli', 'MEX'],\n",
       " ['4', 'Acturus', 'ARG'],\n",
       " ['5', 'Afghanistan', 'AFG'],\n",
       " ['6', 'Akatonbo', 'IRL'],\n",
       " ['7', 'Alain IV', 'SUI'],\n",
       " ['8', 'Albania', 'ALB'],\n",
       " ['9', 'Alcaid', 'POR']]"
      ]
     },
     "execution_count": 3,
     "metadata": {},
     "output_type": "execute_result"
    }
   ],
   "source": [
    "equiposOlimpicosRDD.take(10)"
   ]
  },
  {
   "cell_type": "markdown",
   "metadata": {},
   "source": [
    "### Determinamos la cantidad de siglas para los equipos olímpicos existentes\n",
    "\n",
    "Con ayuda del método 'take', podrás identificar que en la ultima posisión tenemos las siguas para cada pais/equipo. \n",
    "\n",
    "Con esto obtenremos la cantidad precisa de equipos jugadores en los olimpicos"
   ]
  },
  {
   "cell_type": "code",
   "execution_count": 4,
   "metadata": {},
   "outputs": [
    {
     "name": "stderr",
     "output_type": "stream",
     "text": [
      "                                                                                \r"
     ]
    },
    {
     "data": {
      "text/plain": [
       "231"
      ]
     },
     "execution_count": 4,
     "metadata": {},
     "output_type": "execute_result"
    }
   ],
   "source": [
    "equiposOlimpicosRDD.map(lambda x : (x[2])).distinct().count()"
   ]
  },
  {
   "cell_type": "markdown",
   "metadata": {},
   "source": [
    "### Agrupamos datos para poder determinar cuantos equipos posee un pais\n",
    "\n",
    "Recuerda que los RDDs poseen una estructura de llave-valor, por lo cual debemos poner primero el valor 'llave'.\n",
    "\n",
    "Con 'mapValues', al componente 'valor' le indicamos que operación deseamos que se le aplique."
   ]
  },
  {
   "cell_type": "code",
   "execution_count": 5,
   "metadata": {},
   "outputs": [
    {
     "data": {
      "text/plain": [
       "[('sigla', ['equipo']),\n",
       " ('AUT',\n",
       "  ['30. Februar',\n",
       "   'Austria',\n",
       "   'Austria-1',\n",
       "   'Austria-2',\n",
       "   'Breslau',\n",
       "   'Brigantia',\n",
       "   'Donar III',\n",
       "   'Evita VI',\n",
       "   'May-Be 1960',\n",
       "   '\"R.-V. Germania; Leitmeritz\"',\n",
       "   'Surprise']),\n",
       " ('MEX',\n",
       "  ['A North American Team',\n",
       "   'Acipactli',\n",
       "   'Chamukina',\n",
       "   'Mexico',\n",
       "   'Mexico-1',\n",
       "   'Mexico-2',\n",
       "   'Nausikaa 4',\n",
       "   'Tlaloc',\n",
       "   'Xolotl']),\n",
       " ('ARG',\n",
       "  ['Acturus',\n",
       "   'Antares',\n",
       "   'Arcturus',\n",
       "   'Ardilla',\n",
       "   'Argentina',\n",
       "   'Argentina-1',\n",
       "   'Argentina-2',\n",
       "   'Blue Red',\n",
       "   'Covunco III',\n",
       "   'Cupidon III',\n",
       "   'Djinn',\n",
       "   'Gullvinge',\n",
       "   'Matrero II',\n",
       "   'Mizar',\n",
       "   'Pampero',\n",
       "   'Rampage',\n",
       "   'Tango',\n",
       "   'Wiking']),\n",
       " ('AFG', ['Afghanistan'])]"
      ]
     },
     "execution_count": 5,
     "metadata": {},
     "output_type": "execute_result"
    }
   ],
   "source": [
    "equiposOlimpicosRDD.map(lambda x : (x[2], x[1] )).groupByKey()\\\n",
    "    .mapValues(list).take(5)"
   ]
  },
  {
   "cell_type": "code",
   "execution_count": 6,
   "metadata": {},
   "outputs": [
    {
     "data": {
      "text/plain": [
       "[('sigla', 1), ('AUT', 11), ('MEX', 9), ('ARG', 18), ('AFG', 1)]"
      ]
     },
     "execution_count": 6,
     "metadata": {},
     "output_type": "execute_result"
    }
   ],
   "source": [
    "equiposOlimpicosRDD.map(lambda x :  (x[2], x[1] )).groupByKey().mapValues(len).take(5)"
   ]
  },
  {
   "cell_type": "markdown",
   "metadata": {},
   "source": [
    "### Operación filter para obtener un subconjunto\n",
    "\n",
    "Con el método 'filter', reducimos el conjuntos de equipos.\n",
    "\n",
    "Nos quedamos con la sigla equivalente de argentina"
   ]
  },
  {
   "cell_type": "code",
   "execution_count": 7,
   "metadata": {},
   "outputs": [
    {
     "data": {
      "text/plain": [
       "[['4', 'Acturus', 'ARG'],\n",
       " ['37', 'Antares', 'ARG'],\n",
       " ['42', 'Arcturus', 'ARG'],\n",
       " ['43', 'Ardilla', 'ARG'],\n",
       " ['45', 'Argentina', 'ARG'],\n",
       " ['46', 'Argentina-1', 'ARG'],\n",
       " ['47', 'Argentina-2', 'ARG'],\n",
       " ['119', 'Blue Red', 'ARG'],\n",
       " ['238', 'Covunco III', 'ARG'],\n",
       " ['252', 'Cupidon III', 'ARG'],\n",
       " ['288', 'Djinn', 'ARG'],\n",
       " ['436', 'Gullvinge', 'ARG'],\n",
       " ['644', 'Matrero II', 'ARG'],\n",
       " ['672', 'Mizar', 'ARG'],\n",
       " ['774', 'Pampero', 'ARG'],\n",
       " ['843', 'Rampage', 'ARG'],\n",
       " ['1031', 'Tango', 'ARG'],\n",
       " ['1162', 'Wiking', 'ARG']]"
      ]
     },
     "execution_count": 7,
     "metadata": {},
     "output_type": "execute_result"
    }
   ],
   "source": [
    "equiposArgentinos = equiposOlimpicosRDD.filter(lambda l : \"ARG\" in l)\n",
    "equiposArgentinos.collect()  "
   ]
  },
  {
   "cell_type": "markdown",
   "metadata": {},
   "source": [
    "Otra forma de contar además de la que compartió el count y countAprox que limita al tiempo:\n",
    "\n",
    "equiposOlimpicosRDD.map(lambda x: (x[2], x[1])).groupByKey().mapValues(len).take(5)\n",
    "\n",
    "Podrías ser esta:\n",
    "\n",
    "equiposOlimpicosRDD.map(lambda x: (x[2], x[1])).countByKey()\n",
    "\n",
    "Múltiples maneras para llegar al mismo resultado!!! Igual quedarse con el conocimiento de mapValues suma un montón porque no solo nos va a seguir para contar si no para realizar distintas operaciones, es como el apply de pandas si buscamos analogías."
   ]
  },
  {
   "cell_type": "code",
   "execution_count": 8,
   "metadata": {},
   "outputs": [
    {
     "data": {
      "text/plain": [
       "1185"
      ]
     },
     "execution_count": 8,
     "metadata": {},
     "output_type": "execute_result"
    }
   ],
   "source": [
    "equiposOlimpicosRDD.countApprox(20)"
   ]
  },
  {
   "cell_type": "markdown",
   "metadata": {},
   "source": [
    "# Accciones sobre RDDs"
   ]
  },
  {
   "cell_type": "code",
   "execution_count": 9,
   "metadata": {},
   "outputs": [],
   "source": [
    "deportistaOlimpicoRDD = sc.textFile(path+\"deportista.csv\").map(lambda line : line.split(\",\"))\n",
    "deportistaOlimpico2RDD = sc.textFile(path+\"deportista2.csv\").map(lambda line : line.split(\",\"))"
   ]
  },
  {
   "cell_type": "code",
   "execution_count": 10,
   "metadata": {},
   "outputs": [],
   "source": [
    "deportistaOlimpicoRDD = deportistaOlimpicoRDD.union(deportistaOlimpico2RDD)"
   ]
  },
  {
   "cell_type": "markdown",
   "metadata": {},
   "source": [
    "### Formas de visualizar datos de un RDDs\n",
    "\n",
    "La operación 'take' nos devuelve 'N' valores que encuentre spark.\n",
    "\n",
    "La operación 'top', previo ordena respecto al valor llave y nos devuelve 'N' valores.\n",
    "\n",
    "La operacion 'takeSample', nos devuelve una muestra aleatoria de los valores, Observa que recibe tres parametros\n",
    "\n",
    "| Orden | Argumento | Descripción | Valor\n",
    "|-------|--------|-----|--------|\n",
    "|1|withReplacement|Indica si la muetra podrá traer replicados|Bool|\n",
    "|2| num| Cantidad de valores a retornar|int|\n",
    "|3|sed|semilla para el generador aleatorio|int|"
   ]
  },
  {
   "cell_type": "markdown",
   "metadata": {},
   "source": [
    "Nota: Si encuentras complicado leer el código en los segmentos donde usamos indices en las listas, ejecutalo por partes para que visualizes que componentes seleccionamos \n",
    "\n",
    "Nota: Para hacer join con RDDs, debemos tener selecionada la llave al inicio del RDD para poder realizar el cruce."
   ]
  },
  {
   "cell_type": "code",
   "execution_count": 11,
   "metadata": {},
   "outputs": [
    {
     "name": "stderr",
     "output_type": "stream",
     "text": [
      "                                                                                \r"
     ]
    },
    {
     "data": {
      "text/plain": [
       "[('199', (['1', 'A Dijiang', '1', '24', '180', '80'], 'CHN')),\n",
       " ('199', (['2', 'A Lamusi', '1', '23', '170', '60'], 'CHN')),\n",
       " ('199', (['602', 'Abudoureheman', '1', '22', '182', '75'], 'CHN')),\n",
       " ('199', (['1463', 'Ai Linuer', '1', '25', '160', '62'], 'CHN')),\n",
       " ('199', (['1464', 'Ai Yanhan', '2', '14', '168', '54'], 'CHN')),\n",
       " ('199', (['3605', 'An Weijiang', '1', '22', '178', '72'], 'CHN'))]"
      ]
     },
     "execution_count": 11,
     "metadata": {},
     "output_type": "execute_result"
    }
   ],
   "source": [
    "deportistaOlimpicoRDD.map(lambda x :[x[-1], x[:-1]]).join(equiposOlimpicosRDD \\\n",
    "                        .map(lambda x : [x[0],x[2]])).take(6)"
   ]
  },
  {
   "cell_type": "code",
   "execution_count": 12,
   "metadata": {},
   "outputs": [
    {
     "name": "stderr",
     "output_type": "stream",
     "text": [
      "                                                                                \r"
     ]
    },
    {
     "data": {
      "text/plain": [
       "[('999', (['92679', 'Trygve Bjarne Pedersen', '1', '35', '0', '0'], 'NOR')),\n",
       " ('999', (['1144', 'Henrik Agersborg', '1', '47', '0', '0'], 'NOR')),\n",
       " ('999', (['10765', 'Einar Berntsen', '1', '28', '0', '0'], 'NOR')),\n",
       " ('998',\n",
       "  (['111659', 'G. Bernard Bernie Skinner', '1', '34', '182', '82'], 'CAN')),\n",
       " ('996', (['116030', 'Edward Eddy Stutterheim', '1', '39', '0', '0'], 'NED'))]"
      ]
     },
     "execution_count": 12,
     "metadata": {},
     "output_type": "execute_result"
    }
   ],
   "source": [
    "deportistaOlimpicoRDD.map(lambda x :[x[-1], x[:-1]]).join(equiposOlimpicosRDD \\\n",
    "                        .map(lambda x : [x[0],x[2]])).top(5)"
   ]
  },
  {
   "cell_type": "code",
   "execution_count": 13,
   "metadata": {},
   "outputs": [
    {
     "name": "stderr",
     "output_type": "stream",
     "text": [
      "                                                                                \r"
     ]
    },
    {
     "data": {
      "text/plain": [
       "[('93',\n",
       "  (['76502', 'Yelena Viktorovna Matoshko', '2', '30', '177', '80'], 'BLR')),\n",
       " ('487', (['110997', 'Ajit Singh', '1', '23', '185', '73'], 'IND')),\n",
       " ('249',\n",
       "  (['41654', 'Toms Pedro Gonzlez Barrios', '1', '21', '178', '75'], 'CUB')),\n",
       " ('259', (['7157', 'Jlius Bal', '1', '22', '0', '0'], 'TCH'))]"
      ]
     },
     "execution_count": 13,
     "metadata": {},
     "output_type": "execute_result"
    }
   ],
   "source": [
    "deportistaOlimpicoRDD.map(lambda x :[x[-1], x[:-1]]).join(equiposOlimpicosRDD \\\n",
    "                        .map(lambda x : [x[0],x[2]])).takeSample(False,4,10)"
   ]
  },
  {
   "cell_type": "markdown",
   "metadata": {},
   "source": [
    "## Importancia de countAprox"
   ]
  },
  {
   "cell_type": "markdown",
   "metadata": {},
   "source": [
    "Debido a la cantidad de datos no siempre es recomendable hacer operaciones tipo count.\n",
    "\n",
    "Por lo que 'countAprox' es la solución mas viable cuando solo queremos darnos una idea de cuantos datos podemos leer durante un tiempo determinado. Nota: el parametro está en milisegundos"
   ]
  },
  {
   "cell_type": "code",
   "execution_count": 14,
   "metadata": {},
   "outputs": [
    {
     "name": "stderr",
     "output_type": "stream",
     "text": [
      "                                                                                \r"
     ]
    },
    {
     "data": {
      "text/plain": [
       "135427"
      ]
     },
     "execution_count": 14,
     "metadata": {},
     "output_type": "execute_result"
    }
   ],
   "source": [
    "deportistaOlimpicoRDD.map(lambda x :[x[-1], x[:-1]]).join(equiposOlimpicosRDD \\\n",
    "                            .map(lambda x : [x[0],x[2]])).count()"
   ]
  },
  {
   "cell_type": "code",
   "execution_count": 15,
   "metadata": {},
   "outputs": [
    {
     "name": "stderr",
     "output_type": "stream",
     "text": [
      "[Stage 19:======================================>                   (2 + 1) / 3]\r"
     ]
    },
    {
     "data": {
      "text/plain": [
       "135427"
      ]
     },
     "execution_count": 15,
     "metadata": {},
     "output_type": "execute_result"
    }
   ],
   "source": [
    "deportistaOlimpicoRDD.map(lambda x :[x[-1], x[:-1]]).join(equiposOlimpicosRDD \\\n",
    "                        .map(lambda x : [x[0],x[2]])).countApprox(20)"
   ]
  },
  {
   "cell_type": "markdown",
   "metadata": {},
   "source": [
    "# Acciones de modificacion"
   ]
  },
  {
   "cell_type": "markdown",
   "metadata": {},
   "source": [
    "### Obtenemos el equipo y el deportista\n",
    "\n",
    "Guardamos el RDD resultante en equipoDeportista"
   ]
  },
  {
   "cell_type": "code",
   "execution_count": 16,
   "metadata": {},
   "outputs": [],
   "source": [
    "# Corrección del join deportistaOlimpicoRDD y equiposOlimpicosRDD, ya que hay que cambiar el valor llave (el cual es equipo_id) por deportista_id ya que éste valor es quien relaciona la tabla Deportista con la tabla Resultados.\n",
    "# equipoDeportista = deportistaOlimpicoRDD.map(lambda x :[x[-1], x[:-1]]).join(equiposOlimpicosRDD \\\n",
    "                                            # .map(lambda x : [x[0],x[2]]))"
   ]
  },
  {
   "cell_type": "code",
   "execution_count": 17,
   "metadata": {},
   "outputs": [],
   "source": [
    "equipoDeportista = deportistaOlimpicoRDD\\\n",
    "    .map(lambda l : [l[-1],l[:-1]])\\\n",
    "        .join(equiposOlimpicosRDD.map(lambda l : [l[0],l[2]]))\\\n",
    "            .map(lambda l : (l[1][0][0], (l[0],l[1][0][1:],l[1][1]))) "
   ]
  },
  {
   "cell_type": "code",
   "execution_count": 18,
   "metadata": {},
   "outputs": [
    {
     "name": "stderr",
     "output_type": "stream",
     "text": [
      "                                                                                \r"
     ]
    },
    {
     "data": {
      "text/plain": [
       "[('73411', ('507', ['Andrea Magi', '1', '22', '181', '81'], 'ITA')),\n",
       " ('12777',\n",
       "  ('874', ['Igor Alekseyevich Bogolyubsky', '1', '28', '182', '81'], 'RUS')),\n",
       " ('35748',\n",
       "  ('1128', ['Christian Flebbe Roeglim', '1', '24', '176', '76'], 'VEN')),\n",
       " ('122379', ('514', ['Kentaro Tsuda', '1', '30', '168', '63'], 'JPN')),\n",
       " ('18100', ('362', ['Pierre Caque', '1', '26', '187', '90'], 'FRA'))]"
      ]
     },
     "execution_count": 18,
     "metadata": {},
     "output_type": "execute_result"
    }
   ],
   "source": [
    "equipoDeportista.takeSample(False, 5, 11)\n"
   ]
  },
  {
   "cell_type": "code",
   "execution_count": 19,
   "metadata": {},
   "outputs": [
    {
     "data": {
      "text/plain": [
       "PythonRDD[81] at RDD at PythonRDD.scala:53"
      ]
     },
     "execution_count": 19,
     "metadata": {},
     "output_type": "execute_result"
    }
   ],
   "source": [
    "equipoDeportista.map(lambda x : (x[1][0][0],x[1][0][1:],x[1][1]) )"
   ]
  },
  {
   "cell_type": "markdown",
   "metadata": {},
   "source": [
    "### Carga de resultados\n",
    "\n",
    "Esta tabla posee las medallas que los jugadores han ganado"
   ]
  },
  {
   "cell_type": "code",
   "execution_count": 20,
   "metadata": {},
   "outputs": [],
   "source": [
    "resultado = sc.textFile(path+\"resultados.csv\").map(lambda line : line.split(\",\"))"
   ]
  },
  {
   "cell_type": "markdown",
   "metadata": {},
   "source": [
    "Eliminamos todas las medallas no ganadoras y nos quedamos con el valor de la medalla y  del deportista_id"
   ]
  },
  {
   "cell_type": "code",
   "execution_count": 21,
   "metadata": {},
   "outputs": [],
   "source": [
    "resultadoGanador = resultado.filter(lambda l : 'NA' not in l[1])\n",
    "resultadoGanador = resultadoGanador.map(lambda l : [l[2],l[1]])"
   ]
  },
  {
   "cell_type": "markdown",
   "metadata": {},
   "source": [
    "### Obtenemos la relación buscada: deportista,pais y medalla."
   ]
  },
  {
   "cell_type": "code",
   "execution_count": 22,
   "metadata": {},
   "outputs": [
    {
     "name": "stderr",
     "output_type": "stream",
     "text": [
      "                                                                                \r"
     ]
    },
    {
     "data": {
      "text/plain": [
       "[('7597',\n",
       "  (('199', ['Bao Yingying', '2', '24', '172', '67'], 'CHN'), 'Silver'))]"
      ]
     },
     "execution_count": 22,
     "metadata": {},
     "output_type": "execute_result"
    }
   ],
   "source": [
    "jugadoresMedalla =  equipoDeportista.join(resultadoGanador)\n",
    "jugadoresMedalla.take(1)"
   ]
  },
  {
   "cell_type": "markdown",
   "metadata": {},
   "source": [
    "### Agrupamos las medallas respecto a la sigla del pais jugador"
   ]
  },
  {
   "cell_type": "code",
   "execution_count": 23,
   "metadata": {},
   "outputs": [
    {
     "name": "stderr",
     "output_type": "stream",
     "text": [
      "                                                                                \r"
     ]
    },
    {
     "data": {
      "text/plain": [
       "[('ITA', 4),\n",
       " ('NED', 5),\n",
       " ('GBR', 7),\n",
       " ('GDR', 4),\n",
       " ('CUB', 7),\n",
       " ('AUT', 7),\n",
       " ('GER', 5),\n",
       " ('SWE', 5),\n",
       " ('GER', 7),\n",
       " ('USA', 5)]"
      ]
     },
     "execution_count": 23,
     "metadata": {},
     "output_type": "execute_result"
    }
   ],
   "source": [
    "d = {'Gold':7, 'Silver':5, 'Bronze':4}\n",
    "paisesMedallas = jugadoresMedalla.map(lambda x : (x[1][0][-1],d[x[1][1]]) )\n",
    "paisesMedallas.takeSample(False,10)"
   ]
  },
  {
   "cell_type": "markdown",
   "metadata": {},
   "source": [
    "### Obtenemos los valores de los puntuajes históricos de los paises jugadores"
   ]
  },
  {
   "cell_type": "code",
   "execution_count": 24,
   "metadata": {},
   "outputs": [
    {
     "name": "stderr",
     "output_type": "stream",
     "text": [
      "                                                                                \r"
     ]
    },
    {
     "data": {
      "text/plain": [
       "[('USA', 32137),\n",
       " ('URS', 14834),\n",
       " ('GBR', 10925),\n",
       " ('GER', 10896),\n",
       " ('FRA', 9265),\n",
       " ('ITA', 8755),\n",
       " ('SWE', 8110),\n",
       " ('CAN', 7209),\n",
       " ('AUS', 6755),\n",
       " ('HUN', 6142)]"
      ]
     },
     "execution_count": 24,
     "metadata": {},
     "output_type": "execute_result"
    }
   ],
   "source": [
    "from operator import add\n",
    "conclusion = paisesMedallas.reduceByKey((add)).sortBy(lambda x : x[1],ascending=False)\n",
    "conclusion.take(10)"
   ]
  },
  {
   "cell_type": "markdown",
   "metadata": {},
   "source": [
    "# Estadística básica sobre los RDDs"
   ]
  },
  {
   "cell_type": "markdown",
   "metadata": {},
   "source": [
    "Spark posee una suite integrada de forma natural para poder obtener estadísticas básicas."
   ]
  },
  {
   "cell_type": "code",
   "execution_count": 25,
   "metadata": {},
   "outputs": [
    {
     "data": {
      "text/plain": [
       "(count: 150, mean: 1415.7599999999995, stdev: 3532.7790301309997, max: 32137.0, min: 4.0)"
      ]
     },
     "execution_count": 25,
     "metadata": {},
     "output_type": "execute_result"
    }
   ],
   "source": [
    "conclusion.map(lambda l : l[1]).stats()"
   ]
  },
  {
   "cell_type": "code",
   "execution_count": 26,
   "metadata": {},
   "outputs": [
    {
     "data": {
      "text/plain": [
       "1415.7599999999995"
      ]
     },
     "execution_count": 26,
     "metadata": {},
     "output_type": "execute_result"
    }
   ],
   "source": [
    "conclusion.map(lambda l : l [1]).mean()"
   ]
  },
  {
   "cell_type": "code",
   "execution_count": 27,
   "metadata": {},
   "outputs": [
    {
     "data": {
      "text/plain": [
       "212364"
      ]
     },
     "execution_count": 27,
     "metadata": {},
     "output_type": "execute_result"
    }
   ],
   "source": [
    "conclusion.map(lambda l : l [1]).sum()"
   ]
  },
  {
   "cell_type": "code",
   "execution_count": 28,
   "metadata": {},
   "outputs": [
    {
     "data": {
      "text/plain": [
       "([4.0,\n",
       "  3217.3,\n",
       "  6430.6,\n",
       "  9643.900000000001,\n",
       "  12857.2,\n",
       "  16070.5,\n",
       "  19283.800000000003,\n",
       "  22497.100000000002,\n",
       "  25710.4,\n",
       "  28923.7,\n",
       "  32137],\n",
       " [130, 11, 5, 2, 1, 0, 0, 0, 0, 1])"
      ]
     },
     "execution_count": 28,
     "metadata": {},
     "output_type": "execute_result"
    }
   ],
   "source": [
    "conclusion.map(lambda l : l [1]).histogram(10)"
   ]
  },
  {
   "cell_type": "code",
   "execution_count": 29,
   "metadata": {},
   "outputs": [],
   "source": [
    "sc.stop()"
   ]
  }
 ],
 "metadata": {
  "kernelspec": {
   "display_name": "Python 3",
   "language": "python",
   "name": "python3"
  },
  "language_info": {
   "codemirror_mode": {
    "name": "ipython",
    "version": 3
   },
   "file_extension": ".py",
   "mimetype": "text/x-python",
   "name": "python",
   "nbconvert_exporter": "python",
   "pygments_lexer": "ipython3",
   "version": "3.10.12"
  }
 },
 "nbformat": 4,
 "nbformat_minor": 4
}
