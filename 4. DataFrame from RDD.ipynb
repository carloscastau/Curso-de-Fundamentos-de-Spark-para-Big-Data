{
 "cells": [
  {
   "cell_type": "markdown",
   "metadata": {},
   "source": [
    "# Creacion de DataFrame a partir de RDD"
   ]
  },
  {
   "cell_type": "code",
   "execution_count": 1,
   "metadata": {},
   "outputs": [],
   "source": [
    "from pyspark import SparkContext\n",
    "from pyspark.sql import SparkSession\n",
    "from pyspark.sql.types import StructType, StructField \n",
    "from pyspark.sql.types import IntegerType, StringType, FloatType\n",
    "from pyspark.sql.types import Row\n",
    "\n",
    "from pyspark.sql import SQLContext"
   ]
  },
  {
   "cell_type": "code",
   "execution_count": 2,
   "metadata": {},
   "outputs": [
    {
     "name": "stderr",
     "output_type": "stream",
     "text": [
      "24/01/18 16:35:33 WARN Utils: Your hostname, carloscastau resolves to a loopback address: 127.0.1.1; using 192.168.0.13 instead (on interface enp3s0)\n",
      "24/01/18 16:35:33 WARN Utils: Set SPARK_LOCAL_IP if you need to bind to another address\n",
      "Setting default log level to \"WARN\".\n",
      "To adjust logging level use sc.setLogLevel(newLevel). For SparkR, use setLogLevel(newLevel).\n",
      "24/01/18 16:35:39 WARN NativeCodeLoader: Unable to load native-hadoop library for your platform... using builtin-java classes where applicable\n",
      "/home/carloscastau/Documents/platzi/data_engineer/curso-apache-spark-platzi-master/venv/lib/python3.10/site-packages/pyspark/sql/context.py:113: FutureWarning: Deprecated in 3.0.0. Use SparkSession.builder.getOrCreate() instead.\n",
      "  warnings.warn(\n"
     ]
    }
   ],
   "source": [
    "spark = SparkContext(master='local', appName=\"TransformacionesYAcciones\")\n",
    "sqlContext = SQLContext(spark)"
   ]
  },
  {
   "cell_type": "code",
   "execution_count": 3,
   "metadata": {},
   "outputs": [
    {
     "data": {
      "text/plain": [
       "'/home/carloscastau/Documents/platzi/data_engineer/curso-apache-spark-platzi-master'"
      ]
     },
     "execution_count": 3,
     "metadata": {},
     "output_type": "execute_result"
    }
   ],
   "source": [
    "pwd"
   ]
  },
  {
   "cell_type": "code",
   "execution_count": 4,
   "metadata": {},
   "outputs": [
    {
     "name": "stdout",
     "output_type": "stream",
     "text": [
      "deporte.csv\t deportistaError.csv  modelo_relacional.jpg\n",
      "deportista2.csv  evento.csv\t      paises.csv\n",
      "deportista.csv\t juegos.csv\t      resultados.csv\n"
     ]
    }
   ],
   "source": [
    "!ls ./files/"
   ]
  },
  {
   "cell_type": "code",
   "execution_count": 5,
   "metadata": {},
   "outputs": [],
   "source": [
    "path = './files/'\n",
    "deportistaOlimpicoRDD = spark.textFile(path+'deportista.csv') \\\n",
    "    .map(lambda line: line.split(\",\"))\n",
    "\n",
    "deportistaOlimpicoRDD2 = spark.textFile(path+'deportista2.csv') \\\n",
    "    .map(lambda line: line.split(\",\"))\n",
    "\n",
    "deportistaOlimpicoRDD = deportistaOlimpicoRDD.union(deportistaOlimpicoRDD2)"
   ]
  },
  {
   "cell_type": "code",
   "execution_count": 6,
   "metadata": {},
   "outputs": [
    {
     "name": "stderr",
     "output_type": "stream",
     "text": [
      "                                                                                \r"
     ]
    },
    {
     "data": {
      "text/plain": [
       "[['deportista_id', 'nombre', 'genero', 'edad', 'altura', 'peso', 'equipo_id'],\n",
       " ['1', 'A Dijiang', '1', '24', '180', '80', '199'],\n",
       " ['2', 'A Lamusi', '1', '23', '170', '60', '199'],\n",
       " ['3', 'Gunnar Nielsen Aaby', '1', '24', '0', '0', '273'],\n",
       " ['4', 'Edgar Lindenau Aabye', '1', '34', '0', '0', '278']]"
      ]
     },
     "execution_count": 6,
     "metadata": {},
     "output_type": "execute_result"
    }
   ],
   "source": [
    "deportistaOlimpicoRDD.take(5)"
   ]
  },
  {
   "cell_type": "code",
   "execution_count": 7,
   "metadata": {},
   "outputs": [],
   "source": [
    "# Retiramos encabezado\n",
    "def eliminarEncabezado(indice, iterador):\n",
    "    return iter(list(iterador)[1:])"
   ]
  },
  {
   "cell_type": "code",
   "execution_count": 8,
   "metadata": {},
   "outputs": [],
   "source": [
    "deportistaOlimpicoRDD = deportistaOlimpicoRDD.\\\n",
    "        mapPartitionsWithIndex(eliminarEncabezado)"
   ]
  },
  {
   "cell_type": "code",
   "execution_count": 9,
   "metadata": {},
   "outputs": [
    {
     "name": "stderr",
     "output_type": "stream",
     "text": [
      "                                                                                \r"
     ]
    },
    {
     "data": {
      "text/plain": [
       "[['1', 'A Dijiang', '1', '24', '180', '80', '199'],\n",
       " ['2', 'A Lamusi', '1', '23', '170', '60', '199'],\n",
       " ['3', 'Gunnar Nielsen Aaby', '1', '24', '0', '0', '273'],\n",
       " ['4', 'Edgar Lindenau Aabye', '1', '34', '0', '0', '278'],\n",
       " ['5', 'Christine Jacoba Aaftink', '2', '21', '185', '82', '705']]"
      ]
     },
     "execution_count": 9,
     "metadata": {},
     "output_type": "execute_result"
    }
   ],
   "source": [
    "deportistaOlimpicoRDD.take(5)"
   ]
  },
  {
   "cell_type": "code",
   "execution_count": 10,
   "metadata": {},
   "outputs": [],
   "source": [
    "deportistaOlimpicoRDD = deportistaOlimpicoRDD.map(lambda l: (\n",
    "    int(l[0]),\n",
    "    l[1],\n",
    "    int(l[2]),\n",
    "    int(l[3]),\n",
    "    int(l[4]),\n",
    "    float(l[5]),\n",
    "    int(l[6])\n",
    "))"
   ]
  },
  {
   "cell_type": "code",
   "execution_count": 11,
   "metadata": {},
   "outputs": [
    {
     "data": {
      "text/plain": [
       "[(1, 'A Dijiang', 1, 24, 180, 80.0, 199),\n",
       " (2, 'A Lamusi', 1, 23, 170, 60.0, 199),\n",
       " (3, 'Gunnar Nielsen Aaby', 1, 24, 0, 0.0, 273),\n",
       " (4, 'Edgar Lindenau Aabye', 1, 34, 0, 0.0, 278),\n",
       " (5, 'Christine Jacoba Aaftink', 2, 21, 185, 82.0, 705)]"
      ]
     },
     "execution_count": 11,
     "metadata": {},
     "output_type": "execute_result"
    }
   ],
   "source": [
    "deportistaOlimpicoRDD.take(5)"
   ]
  },
  {
   "cell_type": "code",
   "execution_count": 12,
   "metadata": {},
   "outputs": [],
   "source": [
    "schema = StructType([\n",
    "    StructField('deportista_id', IntegerType(), False),\n",
    "    StructField('nombre', StringType(), False),\n",
    "    StructField('genero', IntegerType(), False),\n",
    "    StructField('edad', IntegerType(), False),\n",
    "    StructField('altura', IntegerType(), False),\n",
    "    StructField('peso', FloatType(), False),\n",
    "    StructField('equipo_id', IntegerType(), False)\n",
    "])"
   ]
  },
  {
   "cell_type": "code",
   "execution_count": 13,
   "metadata": {},
   "outputs": [],
   "source": [
    "deportistaDF = sqlContext.createDataFrame(deportistaOlimpicoRDD, schema)"
   ]
  },
  {
   "cell_type": "code",
   "execution_count": 14,
   "metadata": {},
   "outputs": [
    {
     "name": "stderr",
     "output_type": "stream",
     "text": [
      "                                                                                \r"
     ]
    },
    {
     "name": "stdout",
     "output_type": "stream",
     "text": [
      "+-------------+--------------------+------+----+------+----+---------+\n",
      "|deportista_id|              nombre|genero|edad|altura|peso|equipo_id|\n",
      "+-------------+--------------------+------+----+------+----+---------+\n",
      "|            1|           A Dijiang|     1|  24|   180|80.0|      199|\n",
      "|            2|            A Lamusi|     1|  23|   170|60.0|      199|\n",
      "|            3| Gunnar Nielsen Aaby|     1|  24|     0| 0.0|      273|\n",
      "|            4|Edgar Lindenau Aabye|     1|  34|     0| 0.0|      278|\n",
      "|            5|Christine Jacoba ...|     2|  21|   185|82.0|      705|\n",
      "+-------------+--------------------+------+----+------+----+---------+\n",
      "only showing top 5 rows\n",
      "\n"
     ]
    }
   ],
   "source": [
    "deportistaDF.show(5)"
   ]
  },
  {
   "cell_type": "markdown",
   "metadata": {},
   "source": [
    "## Reto crear los dataframes restantes"
   ]
  },
  {
   "cell_type": "code",
   "execution_count": 15,
   "metadata": {},
   "outputs": [
    {
     "name": "stdout",
     "output_type": "stream",
     "text": [
      "+---+--------------------+-----+\n",
      "| id|              equipo|sigla|\n",
      "+---+--------------------+-----+\n",
      "|  1|         30. Februar|  AUT|\n",
      "|  2|A North American ...|  MEX|\n",
      "|  3|           Acipactli|  MEX|\n",
      "|  4|             Acturus|  ARG|\n",
      "|  5|         Afghanistan|  AFG|\n",
      "+---+--------------------+-----+\n",
      "only showing top 5 rows\n",
      "\n"
     ]
    }
   ],
   "source": [
    "# Paises Equipos\n",
    "equiposOlimpicosRDD = spark.textFile(path+'paises.csv') \\\n",
    "    .map(lambda line: line.split(\",\")) \\\n",
    "    .mapPartitionsWithIndex(eliminarEncabezado) \\\n",
    "    .map(lambda l: (\n",
    "    int(l[0]),\n",
    "    l[1],\n",
    "    l[2]\n",
    "    ))\n",
    "\n",
    "equiposSchema = StructType([\n",
    "    StructField('id', IntegerType(), False),\n",
    "    StructField('equipo', StringType(), False),\n",
    "    StructField('sigla', StringType(), False),\n",
    "])\n",
    "\n",
    "paisesDF = sqlContext.createDataFrame(equiposOlimpicosRDD, equiposSchema)\n",
    "\n",
    "paisesDF.show(5)"
   ]
  },
  {
   "cell_type": "code",
   "execution_count": 16,
   "metadata": {},
   "outputs": [
    {
     "name": "stdout",
     "output_type": "stream",
     "text": [
      "+----------+-------------+\n",
      "|deporte_id|      deporte|\n",
      "+----------+-------------+\n",
      "|         1|   Basketball|\n",
      "|         2|         Judo|\n",
      "|         3|     Football|\n",
      "|         4|   Tug-Of-War|\n",
      "|         5|Speed Skating|\n",
      "+----------+-------------+\n",
      "only showing top 5 rows\n",
      "\n"
     ]
    }
   ],
   "source": [
    "# Deportes\n",
    "deporteSchema = StructType([\n",
    "    StructField('deporte_id', IntegerType(), False),\n",
    "    StructField('deporte', StringType(), False)\n",
    "])\n",
    "\n",
    "# Paso 2 Crea DataFrame con la lectura del Schema\n",
    "deportesDF = sqlContext.read.schema(deporteSchema) \\\n",
    "            .option('header', 'true').csv(path+'deporte.csv')\n",
    "\n",
    "deportesDF.show(5)"
   ]
  },
  {
   "cell_type": "code",
   "execution_count": 17,
   "metadata": {},
   "outputs": [
    {
     "name": "stdout",
     "output_type": "stream",
     "text": [
      "+---------+--------------------+----------+\n",
      "|evento_id|              nombre|deporte_id|\n",
      "+---------+--------------------+----------+\n",
      "|        1|Basketball Men's ...|         1|\n",
      "|        2|Judo Men's Extra-...|         2|\n",
      "|        3|Football Men's Fo...|         3|\n",
      "|        4|Tug-Of-War Men's ...|         4|\n",
      "|        5|Speed Skating Wom...|         5|\n",
      "+---------+--------------------+----------+\n",
      "only showing top 5 rows\n",
      "\n"
     ]
    },
    {
     "name": "stderr",
     "output_type": "stream",
     "text": [
      "24/01/18 16:35:53 WARN CSVHeaderChecker: CSV header does not conform to the schema.\n",
      " Header: evento_id, evento, deporte_id\n",
      " Schema: evento_id, nombre, deporte_id\n",
      "Expected: nombre but found: evento\n",
      "CSV file: file:///home/carloscastau/Documents/platzi/data_engineer/curso-apache-spark-platzi-master/files/evento.csv\n"
     ]
    }
   ],
   "source": [
    "# Evento\n",
    "eventoSchema = StructType([\n",
    "    StructField('evento_id', IntegerType(), False),\n",
    "    StructField('nombre', StringType(), False),\n",
    "    StructField('deporte_id', IntegerType(), False),\n",
    "    \n",
    "])\n",
    "\n",
    "# Paso 2 Crea DataFrame con la lectura del Schema\n",
    "deportesOlimpicosDF = sqlContext.read.schema(eventoSchema) \\\n",
    "            .option('header', 'true').csv(path+'evento.csv')\n",
    "\n",
    "deportesOlimpicosDF.show(5)"
   ]
  },
  {
   "cell_type": "code",
   "execution_count": 18,
   "metadata": {},
   "outputs": [
    {
     "name": "stdout",
     "output_type": "stream",
     "text": [
      "+------------+-------+-------------+--------+---------+\n",
      "|resultado_id|medalla|deportista_id|juego_id|evento_id|\n",
      "+------------+-------+-------------+--------+---------+\n",
      "|           1|     NA|            1|      39|        1|\n",
      "|           2|     NA|            2|      49|        2|\n",
      "|           3|     NA|            3|       7|        3|\n",
      "|           4|   Gold|            4|       2|        4|\n",
      "|           5|     NA|            5|      36|        5|\n",
      "+------------+-------+-------------+--------+---------+\n",
      "only showing top 5 rows\n",
      "\n"
     ]
    }
   ],
   "source": [
    "# resultados\n",
    "resultadosSchema = StructType([\n",
    "    StructField('resultado_id', IntegerType(), False),\n",
    "    StructField('medalla', StringType(), False),\n",
    "    StructField('deportista_id', IntegerType(), False),\n",
    "    StructField('juego_id', IntegerType(), False),\n",
    "    StructField('evento_id', IntegerType(), False),\n",
    "    \n",
    "])\n",
    "\n",
    "# Paso 2 Crea DataFrame con la lectura del Schema\n",
    "resultadoDF = sqlContext.read.schema(resultadosSchema) \\\n",
    "            .option('header', 'true').csv(path+'resultados.csv')\n",
    "\n",
    "resultadoDF.show(5)"
   ]
  },
  {
   "cell_type": "code",
   "execution_count": 19,
   "metadata": {},
   "outputs": [
    {
     "name": "stderr",
     "output_type": "stream",
     "text": [
      "24/01/18 16:35:54 WARN CSVHeaderChecker: Number of column in CSV header is not equal to number of fields in the schema:\n",
      " Header length: 5, schema size: 4\n",
      "CSV file: file:///home/carloscastau/Documents/platzi/data_engineer/curso-apache-spark-platzi-master/files/juegos.csv\n"
     ]
    },
    {
     "name": "stdout",
     "output_type": "stream",
     "text": [
      "+--------+-----------+---------+------+\n",
      "|juego_id|       anio|temporada|ciudad|\n",
      "+--------+-----------+---------+------+\n",
      "|       1|1896 Verano|     1896|Verano|\n",
      "|       2|1900 Verano|     1900|Verano|\n",
      "|       3|1904 Verano|     1904|Verano|\n",
      "|       4|1906 Verano|     1906|Verano|\n",
      "|       5|1908 Verano|     1908|Verano|\n",
      "+--------+-----------+---------+------+\n",
      "only showing top 5 rows\n",
      "\n"
     ]
    }
   ],
   "source": [
    "# juegos\n",
    "juegoSchema = StructType([\n",
    "    StructField('juego_id', IntegerType(), False),\n",
    "    StructField('anio', StringType(), False),\n",
    "    StructField('temporada', StringType(), False),\n",
    "    StructField('ciudad', StringType(), False)\n",
    "])\n",
    "\n",
    "# Paso 2 Crea DataFrame con la lectura del Schema\n",
    "juegoDF = sqlContext.read.schema(juegoSchema) \\\n",
    "            .option('header', 'true').csv(path+'juegos.csv')\n",
    "\n",
    "juegoDF.show(5)"
   ]
  },
  {
   "cell_type": "markdown",
   "metadata": {},
   "source": [
    "## Operaciones sobre DF\n"
   ]
  },
  {
   "cell_type": "code",
   "execution_count": 20,
   "metadata": {},
   "outputs": [
    {
     "name": "stdout",
     "output_type": "stream",
     "text": [
      "root\n",
      " |-- deporte_id: integer (nullable = true)\n",
      " |-- deporte: string (nullable = true)\n",
      "\n"
     ]
    }
   ],
   "source": [
    "#ver el Schema\n",
    "deportesDF.printSchema()"
   ]
  },
  {
   "cell_type": "code",
   "execution_count": 21,
   "metadata": {},
   "outputs": [
    {
     "name": "stdout",
     "output_type": "stream",
     "text": [
      "root\n",
      " |-- deportista_id: integer (nullable = false)\n",
      " |-- nombre: string (nullable = false)\n",
      " |-- genero: integer (nullable = false)\n",
      " |-- edad: integer (nullable = false)\n",
      " |-- altura: integer (nullable = false)\n",
      " |-- peso: float (nullable = false)\n",
      " |-- equipo_id: integer (nullable = false)\n",
      "\n"
     ]
    }
   ],
   "source": [
    "deportistaDF.printSchema()"
   ]
  },
  {
   "cell_type": "code",
   "execution_count": 22,
   "metadata": {},
   "outputs": [],
   "source": [
    "# renombrado de columnas\n",
    "deportistaOlimpicoDF = deportistaDF \\\n",
    "    .withColumnRenamed(\"genero\", 'sexo') \\\n",
    "    .drop('altura')"
   ]
  },
  {
   "cell_type": "code",
   "execution_count": 23,
   "metadata": {},
   "outputs": [
    {
     "name": "stdout",
     "output_type": "stream",
     "text": [
      "root\n",
      " |-- deportista_id: integer (nullable = false)\n",
      " |-- nombre: string (nullable = false)\n",
      " |-- sexo: integer (nullable = false)\n",
      " |-- edad: integer (nullable = false)\n",
      " |-- peso: float (nullable = false)\n",
      " |-- equipo_id: integer (nullable = false)\n",
      "\n"
     ]
    }
   ],
   "source": [
    "deportistaOlimpicoDF.printSchema()"
   ]
  },
  {
   "cell_type": "code",
   "execution_count": 24,
   "metadata": {},
   "outputs": [],
   "source": [
    "# Usando el rey SELECT\n",
    "from pyspark.sql.functions import *\n",
    "\n",
    "deportistaOlimpicoDF = deportistaOlimpicoDF.select(\"deportista_id\", \"nombre\",\n",
    "                           col(\"edad\").alias(\"edadAlJugar\"),\n",
    "                           \"equipo_id\"\n",
    "                          )"
   ]
  },
  {
   "cell_type": "code",
   "execution_count": 25,
   "metadata": {},
   "outputs": [
    {
     "name": "stdout",
     "output_type": "stream",
     "text": [
      "+-------------+--------------------+-----------+---------+\n",
      "|deportista_id|              nombre|edadAlJugar|equipo_id|\n",
      "+-------------+--------------------+-----------+---------+\n",
      "|            1|           A Dijiang|         24|      199|\n",
      "|            2|            A Lamusi|         23|      199|\n",
      "|            3| Gunnar Nielsen Aaby|         24|      273|\n",
      "|            4|Edgar Lindenau Aabye|         34|      278|\n",
      "|            5|Christine Jacoba ...|         21|      705|\n",
      "+-------------+--------------------+-----------+---------+\n",
      "only showing top 5 rows\n",
      "\n"
     ]
    }
   ],
   "source": [
    "deportistaOlimpicoDF.show(5)"
   ]
  },
  {
   "cell_type": "code",
   "execution_count": 26,
   "metadata": {},
   "outputs": [],
   "source": [
    "# Usando filer\n",
    "deportistaOlimpicoDF = deportistaOlimpicoDF.filter(\n",
    "                        (deportistaOlimpicoDF.edadAlJugar != 0)\n",
    "                    )"
   ]
  },
  {
   "cell_type": "code",
   "execution_count": 27,
   "metadata": {},
   "outputs": [
    {
     "name": "stderr",
     "output_type": "stream",
     "text": [
      "[Stage 10:=============================>                            (1 + 1) / 2]\r"
     ]
    },
    {
     "name": "stdout",
     "output_type": "stream",
     "text": [
      "+-------------+--------------------+-----------+---------+\n",
      "|deportista_id|              nombre|edadAlJugar|equipo_id|\n",
      "+-------------+--------------------+-----------+---------+\n",
      "|        71691|  Dimitrios Loundras|         10|      333|\n",
      "|        22411|Magdalena Cecilia...|         11|      413|\n",
      "|        70616|          Liu Luyang|         11|      199|\n",
      "|        37333|Carlos Bienvenido...|         11|      982|\n",
      "|        76675|   Marcelle Matthews|         11|      967|\n",
      "|        40129|    Luigina Giavotti|         11|      507|\n",
      "|       118925|Megan Olwen Deven...|         11|      413|\n",
      "|        47618|Sonja Henie Toppi...|         11|      742|\n",
      "|       126307|        Liana Vicens|         11|      825|\n",
      "|        51268|      Beatrice Hutiu|         11|      861|\n",
      "|        52070|        Etsuko Inada|         11|      514|\n",
      "|        72854|      Licia Macchini|         12|      507|\n",
      "|         5291|Marcia Arriaga La...|         12|      656|\n",
      "|        74712|     Carla Marangoni|         12|      507|\n",
      "|        24191| Philippe Cuelenaere|         12|       96|\n",
      "|        74755|Luciana Marcellin...|         12|      507|\n",
      "|        25877|Olga Lucia de Ang...|         12|      225|\n",
      "|        84913|      Clstine N Drin|         12|      237|\n",
      "|        31203|Patricia Anne Pat...|         12|      967|\n",
      "|        96664|Dorothy PoyntonHi...|         12|     1096|\n",
      "+-------------+--------------------+-----------+---------+\n",
      "only showing top 20 rows\n",
      "\n"
     ]
    },
    {
     "name": "stderr",
     "output_type": "stream",
     "text": [
      "                                                                                \r"
     ]
    }
   ],
   "source": [
    "deportistaOlimpicoDF.sort(\"edadAlJugar\").show()"
   ]
  },
  {
   "cell_type": "markdown",
   "metadata": {},
   "source": [
    "## Agrupaciones y operaciones join sobre DF"
   ]
  },
  {
   "cell_type": "code",
   "execution_count": 28,
   "metadata": {},
   "outputs": [
    {
     "name": "stdout",
     "output_type": "stream",
     "text": [
      "root\n",
      " |-- deportista_id: integer (nullable = false)\n",
      " |-- nombre: string (nullable = false)\n",
      " |-- edadAlJugar: integer (nullable = false)\n",
      " |-- equipo_id: integer (nullable = false)\n",
      "\n"
     ]
    }
   ],
   "source": [
    "#visualizamos los Schemas de los DataFrames\n",
    "deportistaOlimpicoDF.printSchema()"
   ]
  },
  {
   "cell_type": "code",
   "execution_count": 29,
   "metadata": {},
   "outputs": [
    {
     "name": "stdout",
     "output_type": "stream",
     "text": [
      "root\n",
      " |-- resultado_id: integer (nullable = true)\n",
      " |-- medalla: string (nullable = true)\n",
      " |-- deportista_id: integer (nullable = true)\n",
      " |-- juego_id: integer (nullable = true)\n",
      " |-- evento_id: integer (nullable = true)\n",
      "\n"
     ]
    }
   ],
   "source": [
    "resultadoDF.printSchema()"
   ]
  },
  {
   "cell_type": "code",
   "execution_count": 30,
   "metadata": {},
   "outputs": [
    {
     "name": "stdout",
     "output_type": "stream",
     "text": [
      "root\n",
      " |-- juego_id: integer (nullable = true)\n",
      " |-- anio: string (nullable = true)\n",
      " |-- temporada: string (nullable = true)\n",
      " |-- ciudad: string (nullable = true)\n",
      "\n"
     ]
    }
   ],
   "source": [
    "juegoDF.printSchema()"
   ]
  },
  {
   "cell_type": "code",
   "execution_count": 31,
   "metadata": {
    "scrolled": true
   },
   "outputs": [
    {
     "name": "stdout",
     "output_type": "stream",
     "text": [
      "root\n",
      " |-- evento_id: integer (nullable = true)\n",
      " |-- nombre: string (nullable = true)\n",
      " |-- deporte_id: integer (nullable = true)\n",
      "\n"
     ]
    }
   ],
   "source": [
    "deportesOlimpicosDF.printSchema()"
   ]
  },
  {
   "cell_type": "code",
   "execution_count": 32,
   "metadata": {},
   "outputs": [
    {
     "name": "stdout",
     "output_type": "stream",
     "text": [
      "root\n",
      " |-- id: integer (nullable = false)\n",
      " |-- equipo: string (nullable = false)\n",
      " |-- sigla: string (nullable = false)\n",
      "\n"
     ]
    }
   ],
   "source": [
    "paisesDF.printSchema()"
   ]
  },
  {
   "cell_type": "code",
   "execution_count": 33,
   "metadata": {},
   "outputs": [
    {
     "name": "stderr",
     "output_type": "stream",
     "text": [
      "24/01/18 16:35:59 WARN CSVHeaderChecker: CSV header does not conform to the schema.\n",
      " Header: evento_id, evento\n",
      " Schema: evento_id, nombre\n",
      "Expected: nombre but found: evento\n",
      "CSV file: file:///home/carloscastau/Documents/platzi/data_engineer/curso-apache-spark-platzi-master/files/evento.csv\n",
      "24/01/18 16:35:59 WARN CSVHeaderChecker: CSV header does not conform to the schema.\n",
      " Header: , nombre_juego\n",
      " Schema: juego_id, anio\n",
      "Expected: juego_id but found: \n",
      "CSV file: file:///home/carloscastau/Documents/platzi/data_engineer/curso-apache-spark-platzi-master/files/juegos.csv\n",
      "                                                                                \r"
     ]
    },
    {
     "name": "stdout",
     "output_type": "stream",
     "text": [
      "+--------------------+-----------+-------+-------------+--------------------+\n",
      "|              nombre|edadAlJugar|medalla|Anio de Juego|Nombre de disciplina|\n",
      "+--------------------+-----------+-------+-------------+--------------------+\n",
      "|           A Dijiang|         24|     NA|  1992 Verano|Basketball Men's ...|\n",
      "|            A Lamusi|         23|     NA|  2012 Verano|Judo Men's Extra-...|\n",
      "| Gunnar Nielsen Aaby|         24|     NA|  1920 Verano|Football Men's Fo...|\n",
      "|Edgar Lindenau Aabye|         34|   Gold|  1900 Verano|Tug-Of-War Men's ...|\n",
      "|Christine Jacoba ...|         21|     NA|1994 Invierno|Speed Skating Wom...|\n",
      "|Christine Jacoba ...|         21|     NA|1994 Invierno|Speed Skating Wom...|\n",
      "|Christine Jacoba ...|         21|     NA|1992 Invierno|Speed Skating Wom...|\n",
      "|Christine Jacoba ...|         21|     NA|1992 Invierno|Speed Skating Wom...|\n",
      "|Christine Jacoba ...|         21|     NA|1988 Invierno|Speed Skating Wom...|\n",
      "|Christine Jacoba ...|         21|     NA|1988 Invierno|Speed Skating Wom...|\n",
      "|     Per Knut Aaland|         31|     NA|1994 Invierno|Cross Country Ski...|\n",
      "|     Per Knut Aaland|         31|     NA|1994 Invierno|Cross Country Ski...|\n",
      "|     Per Knut Aaland|         31|     NA|1994 Invierno|Cross Country Ski...|\n",
      "|     Per Knut Aaland|         31|     NA|1994 Invierno|Cross Country Ski...|\n",
      "|     Per Knut Aaland|         31|     NA|1992 Invierno|Cross Country Ski...|\n",
      "|     Per Knut Aaland|         31|     NA|1992 Invierno|Cross Country Ski...|\n",
      "|     Per Knut Aaland|         31|     NA|1992 Invierno|Cross Country Ski...|\n",
      "|     Per Knut Aaland|         31|     NA|1992 Invierno|Cross Country Ski...|\n",
      "|        John Aalberg|         31|     NA|1994 Invierno|Cross Country Ski...|\n",
      "|        John Aalberg|         31|     NA|1994 Invierno|Cross Country Ski...|\n",
      "+--------------------+-----------+-------+-------------+--------------------+\n",
      "only showing top 20 rows\n",
      "\n"
     ]
    }
   ],
   "source": [
    "# JOINS\n",
    "deportistaOlimpicoDF \\\n",
    "    .join(\n",
    "    resultadoDF,\n",
    "    deportistaOlimpicoDF.deportista_id == resultadoDF.deportista_id,\n",
    "    \"left\"\n",
    "    ) \\\n",
    "    .join(\n",
    "    juegoDF,\n",
    "    juegoDF.juego_id == resultadoDF.juego_id,\n",
    "    \"left\"\n",
    "    ) \\\n",
    "    .join(\n",
    "    deportesOlimpicosDF,\n",
    "    deportesOlimpicosDF.evento_id == resultadoDF.evento_id,\n",
    "    \"left\"\n",
    "    ) \\\n",
    "    .select(deportistaOlimpicoDF.nombre, \n",
    "            \"edadAlJugar\",\n",
    "            \"medalla\", \n",
    "            col(\"anio\").alias(\"Anio de Juego\"),\n",
    "            deportesOlimpicosDF.nombre.alias(\"Nombre de disciplina\")\n",
    "           ).show()\n"
   ]
  },
  {
   "cell_type": "markdown",
   "metadata": {},
   "source": [
    "### Reto\n",
    "\n",
    "Hacer un join con todas las medallas ganadoras unidas con el pais y el equipo al que pertenecen estas medallas."
   ]
  },
  {
   "cell_type": "code",
   "execution_count": 34,
   "metadata": {},
   "outputs": [
    {
     "name": "stderr",
     "output_type": "stream",
     "text": [
      "[Stage 17:>                                                         (0 + 1) / 1]\r"
     ]
    },
    {
     "name": "stdout",
     "output_type": "stream",
     "text": [
      "+-------+--------------+-----+\n",
      "|medalla|        equipo|sigla|\n",
      "+-------+--------------+-----+\n",
      "| Bronze|       Finland|  FIN|\n",
      "| Bronze|       Finland|  FIN|\n",
      "| Bronze|       Finland|  FIN|\n",
      "| Bronze|       Finland|  FIN|\n",
      "|   Gold|       Finland|  FIN|\n",
      "|   Gold|       Finland|  FIN|\n",
      "|   Gold|       Finland|  FIN|\n",
      "| Bronze|       Finland|  FIN|\n",
      "|   Gold|        Norway|  NOR|\n",
      "| Bronze|        Norway|  NOR|\n",
      "| Silver|        Norway|  NOR|\n",
      "| Bronze|        Norway|  NOR|\n",
      "| Silver|        Norway|  NOR|\n",
      "|   Gold|        Norway|  NOR|\n",
      "|   Gold|        Norway|  NOR|\n",
      "|   Gold|        Norway|  NOR|\n",
      "|   Gold|        Norway|  NOR|\n",
      "| Silver|        Norway|  NOR|\n",
      "|   Gold|Denmark/Sweden|  SWE|\n",
      "| Bronze|   Netherlands|  NED|\n",
      "+-------+--------------+-----+\n",
      "only showing top 20 rows\n",
      "\n"
     ]
    },
    {
     "name": "stderr",
     "output_type": "stream",
     "text": [
      "                                                                                \r"
     ]
    }
   ],
   "source": [
    "resultadoDF \\\n",
    "    .join(\n",
    "    deportistaOlimpicoDF,\n",
    "    resultadoDF.deportista_id == deportistaOlimpicoDF.deportista_id,\n",
    "    \"left\"\n",
    "    ) \\\n",
    "    .join(\n",
    "    paisesDF,\n",
    "    deportistaOlimpicoDF.equipo_id == paisesDF.id,\n",
    "    \"left\"    \n",
    "    ) \\\n",
    "    .select(\"medalla\",\n",
    "            paisesDF.equipo,\n",
    "            paisesDF.sigla\n",
    "    ) \\\n",
    "    .where(resultadoDF.medalla != \"NA\") .show()"
   ]
  },
  {
   "cell_type": "markdown",
   "metadata": {},
   "source": [
    "## Solución reto joins\n",
    "Solucion del profesor"
   ]
  },
  {
   "cell_type": "code",
   "execution_count": 35,
   "metadata": {},
   "outputs": [
    {
     "name": "stderr",
     "output_type": "stream",
     "text": [
      "                                                                                \r"
     ]
    },
    {
     "name": "stdout",
     "output_type": "stream",
     "text": [
      "+-------+--------+-----+\n",
      "|medalla|  equipo|sigla|\n",
      "+-------+--------+-----+\n",
      "|   Gold|Zimbabwe|  ZIM|\n",
      "|   Gold|Zimbabwe|  ZIM|\n",
      "|   Gold|Zimbabwe|  ZIM|\n",
      "|   Gold|Zimbabwe|  ZIM|\n",
      "| Silver|Zimbabwe|  ZIM|\n",
      "|   Gold|Zimbabwe|  ZIM|\n",
      "|   Gold|Zimbabwe|  ZIM|\n",
      "|   Gold|Zimbabwe|  ZIM|\n",
      "| Bronze|Zimbabwe|  ZIM|\n",
      "|   Gold|Zimbabwe|  ZIM|\n",
      "| Silver|Zimbabwe|  ZIM|\n",
      "|   Gold|Zimbabwe|  ZIM|\n",
      "|   Gold|Zimbabwe|  ZIM|\n",
      "|   Gold|Zimbabwe|  ZIM|\n",
      "| Silver|Zimbabwe|  ZIM|\n",
      "|   Gold|Zimbabwe|  ZIM|\n",
      "| Silver|Zimbabwe|  ZIM|\n",
      "|   Gold|Zimbabwe|  ZIM|\n",
      "|   Gold|Zimbabwe|  ZIM|\n",
      "|   Gold|Zimbabwe|  ZIM|\n",
      "+-------+--------+-----+\n",
      "only showing top 20 rows\n",
      "\n"
     ]
    }
   ],
   "source": [
    "resultadoDF.filter(resultadoDF.medalla != \"NA\") \\\n",
    "    .join(\n",
    "        deportistaOlimpicoDF,\n",
    "        resultadoDF.deportista_id == deportistaOlimpicoDF.deportista_id,\n",
    "        \"left\"\n",
    "    ) \\\n",
    "    .join(\n",
    "        paisesDF,\n",
    "        deportistaOlimpicoDF.equipo_id == paisesDF.id,\n",
    "        \"left\"    \n",
    "    ) \\\n",
    "    .select(\"medalla\", paisesDF.equipo, paisesDF.sigla) \\\n",
    "    .sort( col(\"sigla\").desc()) \\\n",
    "    .show()"
   ]
  },
  {
   "cell_type": "markdown",
   "metadata": {},
   "source": [
    "## Funciones de agrupación\n"
   ]
  },
  {
   "cell_type": "code",
   "execution_count": 36,
   "metadata": {},
   "outputs": [],
   "source": [
    "medallistaXAnio = deportistaOlimpicoDF \\\n",
    "    .join(\n",
    "        resultadoDF, \n",
    "        deportistaOlimpicoDF.deportista_id == resultadoDF.deportista_id, \n",
    "        \"left\"\n",
    "    ) \\\n",
    "    .join(\n",
    "        juegoDF, \n",
    "        juegoDF.juego_id == resultadoDF.juego_id, \n",
    "        \"left\"\n",
    "    ) \\\n",
    "    .join(\n",
    "        paisesDF, \n",
    "        deportistaOlimpicoDF.equipo_id == paisesDF.id, \n",
    "        \"left\"\n",
    "    ) \\\n",
    "    .join(\n",
    "        deportesOlimpicosDF, \n",
    "        deportesOlimpicosDF.evento_id == resultadoDF.evento_id, \n",
    "        \"left\"\n",
    "    ) \\\n",
    "    .join(\n",
    "        deportesDF, \n",
    "        deportesOlimpicosDF.deporte_id == deportesDF.deporte_id, \n",
    "        \"left\"\n",
    "    ) \\\n",
    "    .select(\n",
    "        \"sigla\",\n",
    "        \"anio\",\n",
    "        \"medalla\",\n",
    "        deportesOlimpicosDF.nombre.alias(\"Nombre subdisciplina\"),\n",
    "        deportesDF.deporte.alias(\"Nombre disciplina\"),\n",
    "        deportistaOlimpicoDF.nombre    \n",
    "    )"
   ]
  },
  {
   "cell_type": "code",
   "execution_count": 37,
   "metadata": {},
   "outputs": [
    {
     "name": "stderr",
     "output_type": "stream",
     "text": [
      "24/01/18 16:36:11 WARN CSVHeaderChecker: CSV header does not conform to the schema.\n",
      " Header: evento_id, evento, deporte_id\n",
      " Schema: evento_id, nombre, deporte_id\n",
      "Expected: nombre but found: evento\n",
      "CSV file: file:///home/carloscastau/Documents/platzi/data_engineer/curso-apache-spark-platzi-master/files/evento.csv\n",
      "24/01/18 16:36:11 WARN CSVHeaderChecker: CSV header does not conform to the schema.\n",
      " Header: , nombre_juego\n",
      " Schema: juego_id, anio\n",
      "Expected: juego_id but found: \n",
      "CSV file: file:///home/carloscastau/Documents/platzi/data_engineer/curso-apache-spark-platzi-master/files/juegos.csv\n"
     ]
    },
    {
     "name": "stdout",
     "output_type": "stream",
     "text": [
      "+-----+-------------+-------+--------------------+--------------------+--------------------+\n",
      "|sigla|         anio|medalla|Nombre subdisciplina|   Nombre disciplina|              nombre|\n",
      "+-----+-------------+-------+--------------------+--------------------+--------------------+\n",
      "|  CHN|  1992 Verano|     NA|Basketball Men's ...|          Basketball|           A Dijiang|\n",
      "|  CHN|  2012 Verano|     NA|Judo Men's Extra-...|                Judo|            A Lamusi|\n",
      "|  DEN|  1920 Verano|     NA|Football Men's Fo...|            Football| Gunnar Nielsen Aaby|\n",
      "|  SWE|  1900 Verano|   Gold|Tug-Of-War Men's ...|          Tug-Of-War|Edgar Lindenau Aabye|\n",
      "|  NED|1994 Invierno|     NA|Speed Skating Wom...|       Speed Skating|Christine Jacoba ...|\n",
      "|  NED|1994 Invierno|     NA|Speed Skating Wom...|       Speed Skating|Christine Jacoba ...|\n",
      "|  NED|1992 Invierno|     NA|Speed Skating Wom...|       Speed Skating|Christine Jacoba ...|\n",
      "|  NED|1992 Invierno|     NA|Speed Skating Wom...|       Speed Skating|Christine Jacoba ...|\n",
      "|  NED|1988 Invierno|     NA|Speed Skating Wom...|       Speed Skating|Christine Jacoba ...|\n",
      "|  NED|1988 Invierno|     NA|Speed Skating Wom...|       Speed Skating|Christine Jacoba ...|\n",
      "|  USA|1994 Invierno|     NA|Cross Country Ski...|Cross Country Skiing|     Per Knut Aaland|\n",
      "|  USA|1994 Invierno|     NA|Cross Country Ski...|Cross Country Skiing|     Per Knut Aaland|\n",
      "|  USA|1994 Invierno|     NA|Cross Country Ski...|Cross Country Skiing|     Per Knut Aaland|\n",
      "|  USA|1994 Invierno|     NA|Cross Country Ski...|Cross Country Skiing|     Per Knut Aaland|\n",
      "|  USA|1992 Invierno|     NA|Cross Country Ski...|Cross Country Skiing|     Per Knut Aaland|\n",
      "|  USA|1992 Invierno|     NA|Cross Country Ski...|Cross Country Skiing|     Per Knut Aaland|\n",
      "|  USA|1992 Invierno|     NA|Cross Country Ski...|Cross Country Skiing|     Per Knut Aaland|\n",
      "|  USA|1992 Invierno|     NA|Cross Country Ski...|Cross Country Skiing|     Per Knut Aaland|\n",
      "|  USA|1994 Invierno|     NA|Cross Country Ski...|Cross Country Skiing|        John Aalberg|\n",
      "|  USA|1994 Invierno|     NA|Cross Country Ski...|Cross Country Skiing|        John Aalberg|\n",
      "+-----+-------------+-------+--------------------+--------------------+--------------------+\n",
      "only showing top 20 rows\n",
      "\n"
     ]
    }
   ],
   "source": [
    "medallistaXAnio.show()"
   ]
  },
  {
   "cell_type": "code",
   "execution_count": 38,
   "metadata": {},
   "outputs": [
    {
     "name": "stderr",
     "output_type": "stream",
     "text": [
      "24/01/18 16:36:13 WARN CSVHeaderChecker: CSV header does not conform to the schema.\n",
      " Header: evento_id, evento, deporte_id\n",
      " Schema: evento_id, nombre, deporte_id\n",
      "Expected: nombre but found: evento\n",
      "CSV file: file:///home/carloscastau/Documents/platzi/data_engineer/curso-apache-spark-platzi-master/files/evento.csv\n",
      "24/01/18 16:36:13 WARN CSVHeaderChecker: CSV header does not conform to the schema.\n",
      " Header: , nombre_juego\n",
      " Schema: juego_id, anio\n",
      "Expected: juego_id but found: \n",
      "CSV file: file:///home/carloscastau/Documents/platzi/data_engineer/curso-apache-spark-platzi-master/files/juegos.csv\n",
      "[Stage 51:=============================>                            (1 + 1) / 2]\r"
     ]
    },
    {
     "name": "stdout",
     "output_type": "stream",
     "text": [
      "+-----+-------------+--------------------+-----+\n",
      "|sigla|         anio|Nombre subdisciplina|count|\n",
      "+-----+-------------+--------------------+-----+\n",
      "|  KOR|2006 Invierno|Short Track Speed...|    2|\n",
      "|  RUS|  2004 Verano|Wrestling Men's S...|    1|\n",
      "|  USA|  2004 Verano|Synchronized Swim...|    8|\n",
      "|  RUS|  2016 Verano|Shooting Women's ...|    1|\n",
      "|  RUS|  2008 Verano|Wrestling Men's L...|    1|\n",
      "|  SWE|  1936 Verano|Art Competitions ...|    1|\n",
      "|  EUN|2002 Invierno|Cross Country Ski...|    1|\n",
      "|  GBR|  1956 Verano|Sailing Mixed 5.5...|    4|\n",
      "|  USA|  1988 Verano|Volleyball Men's ...|   12|\n",
      "|  FRA|  1932 Verano|Cycling Men's Tea...|    4|\n",
      "|  USA|  1996 Verano|Equestrianism Mix...|    4|\n",
      "|  USA|  1996 Verano|Athletics Men's H...|    1|\n",
      "|  GBR|  2008 Verano|Boxing Men's Midd...|    1|\n",
      "|  FRA|  1984 Verano|Fencing Men's Sab...|    5|\n",
      "|  USA|  2012 Verano|Gymnastics Women'...|    1|\n",
      "|  FRA|  2004 Verano|Rowing Men's Ligh...|    2|\n",
      "|  NOR|1932 Invierno|Speed Skating Men...|    1|\n",
      "|  FRG|  1992 Verano| Hockey Men's Hockey|    5|\n",
      "|  SUI|  2000 Verano|Equestrianism Mix...|    4|\n",
      "|  CUB|  1976 Verano|Boxing Men's Ligh...|    1|\n",
      "+-----+-------------+--------------------+-----+\n",
      "only showing top 20 rows\n",
      "\n"
     ]
    },
    {
     "name": "stderr",
     "output_type": "stream",
     "text": [
      "                                                                                \r"
     ]
    }
   ],
   "source": [
    "# descartamos deportistas sin medalla\n",
    "medallistaXAnio2 = medallistaXAnio.filter(resultadoDF.medalla != \"NA\") \\\n",
    "                    .sort(\"anio\") \\\n",
    "                    .groupBy(\"sigla\", \"anio\", \"Nombre subdisciplina\") \\\n",
    "                    .count()\n",
    "\n",
    "medallistaXAnio2.show()"
   ]
  },
  {
   "cell_type": "code",
   "execution_count": 39,
   "metadata": {},
   "outputs": [
    {
     "name": "stdout",
     "output_type": "stream",
     "text": [
      "root\n",
      " |-- sigla: string (nullable = true)\n",
      " |-- anio: string (nullable = true)\n",
      " |-- Nombre subdisciplina: string (nullable = true)\n",
      " |-- count: long (nullable = false)\n",
      "\n"
     ]
    }
   ],
   "source": [
    "medallistaXAnio2.printSchema()"
   ]
  },
  {
   "cell_type": "code",
   "execution_count": 40,
   "metadata": {},
   "outputs": [
    {
     "name": "stderr",
     "output_type": "stream",
     "text": [
      "24/01/18 16:36:18 WARN CSVHeaderChecker: CSV header does not conform to the schema.\n",
      " Header: , nombre_juego\n",
      " Schema: juego_id, anio\n",
      "Expected: juego_id but found: \n",
      "CSV file: file:///home/carloscastau/Documents/platzi/data_engineer/curso-apache-spark-platzi-master/files/juegos.csv\n",
      "24/01/18 16:36:18 WARN CSVHeaderChecker: CSV header does not conform to the schema.\n",
      " Header: evento_id, evento, deporte_id\n",
      " Schema: evento_id, nombre, deporte_id\n",
      "Expected: nombre but found: evento\n",
      "CSV file: file:///home/carloscastau/Documents/platzi/data_engineer/curso-apache-spark-platzi-master/files/evento.csv\n",
      "[Stage 61:=============================>                            (1 + 1) / 2]\r"
     ]
    },
    {
     "name": "stdout",
     "output_type": "stream",
     "text": [
      "+-----+-------------+-----------------+------------------+\n",
      "|Sigla|         anio|Total de medallas| Medallas promedio|\n",
      "+-----+-------------+-----------------+------------------+\n",
      "|  SWE|  1976 Verano|               10|               2.0|\n",
      "|  MGL|  2008 Verano|                5|              1.25|\n",
      "|  SUI|2014 Invierno|               29|3.2222222222222223|\n",
      "|  ETH|  2004 Verano|                7|              1.75|\n",
      "|  BEL|  2000 Verano|                7|               1.4|\n",
      "|  AUT|  1928 Verano|                5|              1.25|\n",
      "|  SYR|  1984 Verano|                1|               1.0|\n",
      "|  NED|1992 Invierno|                4|1.3333333333333333|\n",
      "|  MAS|  2012 Verano|                2|               1.0|\n",
      "|  ITA|  1996 Verano|               69| 2.225806451612903|\n",
      "|  THA|  2008 Verano|                4|               1.0|\n",
      "|  URS|1984 Invierno|               56|               2.8|\n",
      "|  DEN|  1896 Verano|                6|               1.0|\n",
      "|  GRN|  2016 Verano|                1|               1.0|\n",
      "|  DEN|  1956 Verano|                6|               1.5|\n",
      "|  ARG|  2004 Verano|               49| 8.166666666666666|\n",
      "|  CHI|  1988 Verano|                1|               1.0|\n",
      "|  ITA|  1972 Verano|               25|            1.5625|\n",
      "|  GER|  1912 Verano|               53|2.5238095238095237|\n",
      "|  DEN|  1932 Verano|               11|             1.375|\n",
      "+-----+-------------+-----------------+------------------+\n",
      "only showing top 20 rows\n",
      "\n"
     ]
    },
    {
     "name": "stderr",
     "output_type": "stream",
     "text": [
      "                                                                                \r"
     ]
    }
   ],
   "source": [
    "medallistaXAnio2.groupBy(\"Sigla\", \"anio\") \\\n",
    "    .agg(sum(\"count\").alias(\"Total de medallas\"), \\\n",
    "        avg(\"count\").alias(\"Medallas promedio\")).show()\n",
    "\n",
    "# .agg() o agregate es la forma recomendada por la documentacion."
   ]
  },
  {
   "cell_type": "markdown",
   "metadata": {},
   "source": [
    "# SQL"
   ]
  },
  {
   "cell_type": "code",
   "execution_count": 41,
   "metadata": {},
   "outputs": [
    {
     "name": "stderr",
     "output_type": "stream",
     "text": [
      "/home/carloscastau/Documents/platzi/data_engineer/curso-apache-spark-platzi-master/venv/lib/python3.10/site-packages/pyspark/sql/dataframe.py:329: FutureWarning: Deprecated in 2.0, use createOrReplaceTempView instead.\n",
      "  warnings.warn(\"Deprecated in 2.0, use createOrReplaceTempView instead.\", FutureWarning)\n"
     ]
    }
   ],
   "source": [
    "# registro de DataFrames como tablas SQL\n",
    "resultadoDF.registerTempTable(\"resultado\")\n",
    "deportistaOlimpicoDF.registerTempTable(\"deportista\")\n",
    "paisesDF.registerTempTable(\"paises\")"
   ]
  },
  {
   "cell_type": "code",
   "execution_count": 42,
   "metadata": {},
   "outputs": [
    {
     "name": "stdout",
     "output_type": "stream",
     "text": [
      "+-------------+--------------------+-----------+---------+\n",
      "|deportista_id|              nombre|edadAlJugar|equipo_id|\n",
      "+-------------+--------------------+-----------+---------+\n",
      "|            1|           A Dijiang|         24|      199|\n",
      "|            2|            A Lamusi|         23|      199|\n",
      "|            3| Gunnar Nielsen Aaby|         24|      273|\n",
      "|            4|Edgar Lindenau Aabye|         34|      278|\n",
      "|            5|Christine Jacoba ...|         21|      705|\n",
      "+-------------+--------------------+-----------+---------+\n",
      "only showing top 5 rows\n",
      "\n"
     ]
    }
   ],
   "source": [
    "sqlContext.sql(\"SELECT * FROM deportista\").show(5)"
   ]
  },
  {
   "cell_type": "code",
   "execution_count": 43,
   "metadata": {},
   "outputs": [
    {
     "name": "stderr",
     "output_type": "stream",
     "text": [
      "[Stage 72:=============================>                            (1 + 1) / 2]\r"
     ]
    },
    {
     "name": "stdout",
     "output_type": "stream",
     "text": [
      "+-------+--------------------+-----+\n",
      "|medalla|              equipo|sigla|\n",
      "+-------+--------------------+-----+\n",
      "| Bronze|            Zimbabwe|  ZIM|\n",
      "| Silver|            Zimbabwe|  ZIM|\n",
      "|   Gold|            Zimbabwe|  ZIM|\n",
      "| Silver|              Zambia|  ZAM|\n",
      "|   Gold|          Yugoslavia|  YUG|\n",
      "| Silver|          Yugoslavia|  YUG|\n",
      "| Bronze|          Yugoslavia|  YUG|\n",
      "| Bronze|West Indies Feder...|  WIF|\n",
      "| Silver|             Vietnam|  VIE|\n",
      "|   Gold|             Vietnam|  VIE|\n",
      "| Bronze|           Venezuela|  VEN|\n",
      "| Silver|           Venezuela|  VEN|\n",
      "|   Gold|           Venezuela|  VEN|\n",
      "|   Gold|          Uzbekistan|  UZB|\n",
      "| Silver|          Uzbekistan|  UZB|\n",
      "+-------+--------------------+-----+\n",
      "only showing top 15 rows\n",
      "\n"
     ]
    },
    {
     "name": "stderr",
     "output_type": "stream",
     "text": [
      "                                                                                \r"
     ]
    }
   ],
   "source": [
    "sqlContext.sql(\"\"\"\n",
    "                SELECT DISTINCT medalla, equipo, sigla FROM resultado as r\n",
    "                JOIN deportista as d\n",
    "                ON r.deportista_id = d.deportista_id\n",
    "                JOIN paises as p\n",
    "                ON p.id = d.equipo_id\n",
    "                WHERE medalla <> \"NA\"\n",
    "                ORDER BY sigla DESC\n",
    "                \"\"\").show(15)"
   ]
  },
  {
   "cell_type": "code",
   "execution_count": 44,
   "metadata": {},
   "outputs": [
    {
     "data": {
      "text/html": [
       "\n",
       "        <div>\n",
       "            <p><b>SparkContext</b></p>\n",
       "\n",
       "            <p><a href=\"http://192.168.0.13:4040\">Spark UI</a></p>\n",
       "\n",
       "            <dl>\n",
       "              <dt>Version</dt>\n",
       "                <dd><code>v3.5.0</code></dd>\n",
       "              <dt>Master</dt>\n",
       "                <dd><code>local</code></dd>\n",
       "              <dt>AppName</dt>\n",
       "                <dd><code>TransformacionesYAcciones</code></dd>\n",
       "            </dl>\n",
       "        </div>\n",
       "        "
      ],
      "text/plain": [
       "<SparkContext master=local appName=TransformacionesYAcciones>"
      ]
     },
     "execution_count": 44,
     "metadata": {},
     "output_type": "execute_result"
    }
   ],
   "source": [
    "spark"
   ]
  },
  {
   "cell_type": "markdown",
   "metadata": {},
   "source": [
    "# UDF"
   ]
  },
  {
   "cell_type": "code",
   "execution_count": 45,
   "metadata": {},
   "outputs": [
    {
     "name": "stdout",
     "output_type": "stream",
     "text": [
      "deporte.csv\t deportistaError.csv  modelo_relacional.jpg\n",
      "deportista2.csv  evento.csv\t      paises.csv\n",
      "deportista.csv\t juegos.csv\t      resultados.csv\n"
     ]
    }
   ],
   "source": [
    "!ls ./files/"
   ]
  },
  {
   "cell_type": "code",
   "execution_count": 46,
   "metadata": {},
   "outputs": [
    {
     "name": "stdout",
     "output_type": "stream",
     "text": [
      "deportista_id,nombre,genero,edad,altura,peso,equipo_id\n",
      "1,A Dijiang,1,24,180,80,199\n",
      "2,A Lamusi,1,23,170,60,199\n",
      "3,Gunnar Nielsen Aaby,1,24,,,273\n",
      "4,Edgar Lindenau Aabye,1,34,,,278\n"
     ]
    }
   ],
   "source": [
    "!head -n 5 ./files/deportistaError.csv"
   ]
  },
  {
   "cell_type": "code",
   "execution_count": 47,
   "metadata": {},
   "outputs": [],
   "source": [
    "DeportistaError_schema = StructType([\n",
    "    StructField(\"deportista_id\", StringType(), False),\n",
    "    StructField(\"nombre\", StringType(), False),\n",
    "    StructField(\"genero\", StringType(), False),\n",
    "    StructField(\"edad\", StringType(), False),\n",
    "    StructField(\"altura\", StringType(), False), \n",
    "    StructField(\"peso\", StringType(), False),\n",
    "    StructField(\"equipo_id\", StringType(), False)\n",
    "])\n",
    "\n",
    "deportistaErrorDF = sqlContext.read.format(\"csv\").\\\n",
    "            option(\"header\", True).\\\n",
    "            schema(DeportistaError_schema).\\\n",
    "            load(path+\"deportistaError.csv\")"
   ]
  },
  {
   "cell_type": "code",
   "execution_count": 48,
   "metadata": {},
   "outputs": [
    {
     "name": "stdout",
     "output_type": "stream",
     "text": [
      "+-------------+--------------------+------+----+------+----+---------+\n",
      "|deportista_id|              nombre|genero|edad|altura|peso|equipo_id|\n",
      "+-------------+--------------------+------+----+------+----+---------+\n",
      "|            1|           A Dijiang|     1|  24|   180|  80|      199|\n",
      "|            2|            A Lamusi|     1|  23|   170|  60|      199|\n",
      "|            3| Gunnar Nielsen Aaby|     1|  24|  NULL|NULL|      273|\n",
      "|            4|Edgar Lindenau Aabye|     1|  34|  NULL|NULL|      278|\n",
      "|            5|Christine Jacoba ...|     2|  21|   185|  82|      705|\n",
      "|            6|     Per Knut Aaland|     1|  31|   188|  75|     1096|\n",
      "|            7|        John Aalberg|     1|  31|   183|  72|     1096|\n",
      "|            8|\"Cornelia \"\"Cor\"\"...|     2|  18|   168|NULL|      705|\n",
      "|            9|    Antti Sami Aalto|     1|  26|   186|  96|      350|\n",
      "|           10|\"Einar Ferdinand ...|     1|  26|  NULL|NULL|      350|\n",
      "|           11|  Jorma Ilmari Aalto|     1|  22|   182|76.5|      350|\n",
      "|           12|   Jyri Tapani Aalto|     1|  31|   172|  70|      350|\n",
      "|           13|  Minna Maarit Aalto|     2|  30|   159|55.5|      350|\n",
      "|           14|Pirjo Hannele Aal...|     2|  32|   171|  65|      350|\n",
      "|           15|Arvo Ossian Aaltonen|     1|  22|  NULL|NULL|      350|\n",
      "|           16|Juhamatti Tapio A...|     1|  28|   184|  85|      350|\n",
      "|           17|Paavo Johannes Aa...|     1|  28|   175|  64|      350|\n",
      "|           18|Timo Antero Aaltonen|     1|  31|   189| 130|      350|\n",
      "|           19|Win Valdemar Aalt...|     1|  54|  NULL|NULL|      350|\n",
      "|           20|  Kjetil Andr Aamodt|     1|  20|   176|  85|      742|\n",
      "+-------------+--------------------+------+----+------+----+---------+\n",
      "only showing top 20 rows\n",
      "\n"
     ]
    }
   ],
   "source": [
    "deportistaErrorDF.show()"
   ]
  },
  {
   "cell_type": "markdown",
   "metadata": {},
   "source": [
    "Si analizamos la columna altura nosotros queremos que sean enteros y en ausencia del valor deberia aparecer un null, aqui entran en el juego las **UDF**, las cuales trabajaran de forma nativa"
   ]
  },
  {
   "cell_type": "code",
   "execution_count": 49,
   "metadata": {},
   "outputs": [],
   "source": [
    "from pyspark.sql.functions import udf"
   ]
  },
  {
   "cell_type": "code",
   "execution_count": 50,
   "metadata": {
    "scrolled": true
   },
   "outputs": [
    {
     "name": "stderr",
     "output_type": "stream",
     "text": [
      "[Stage 76:>                                                         (0 + 1) / 1]\r"
     ]
    },
    {
     "name": "stdout",
     "output_type": "stream",
     "text": [
      "+---------+\n",
      "|alturaUDF|\n",
      "+---------+\n",
      "|      180|\n",
      "|      170|\n",
      "|        0|\n",
      "|        0|\n",
      "|      185|\n",
      "|      188|\n",
      "|      183|\n",
      "|      168|\n",
      "|      186|\n",
      "|        0|\n",
      "|      182|\n",
      "|      172|\n",
      "|      159|\n",
      "|      171|\n",
      "|        0|\n",
      "|      184|\n",
      "|      175|\n",
      "|      189|\n",
      "|        0|\n",
      "|      176|\n",
      "+---------+\n",
      "only showing top 20 rows\n",
      "\n"
     ]
    },
    {
     "name": "stderr",
     "output_type": "stream",
     "text": [
      "                                                                                \r"
     ]
    }
   ],
   "source": [
    "def conversionEnteros(valor):\n",
    "    try:\n",
    "        return int(valor) if len(valor) > 0 else 0\n",
    "    except TypeError as e:\n",
    "        return 0\n",
    "    \n",
    "conversionEnteros_udf = udf(lambda z: conversionEnteros(z), IntegerType())\n",
    "sqlContext.udf.register(\"conversionEnteros_udf\", conversionEnteros_udf)\n",
    "\n",
    "deportistaErrorDF.select(conversionEnteros_udf(\"altura\") \\\n",
    "                         .alias(\"alturaUDF\")).show()"
   ]
  },
  {
   "cell_type": "markdown",
   "metadata": {},
   "source": [
    "# DF y replicacion"
   ]
  },
  {
   "cell_type": "code",
   "execution_count": 51,
   "metadata": {},
   "outputs": [],
   "source": [
    "from pyspark.storagelevel import StorageLevel"
   ]
  },
  {
   "cell_type": "code",
   "execution_count": 52,
   "metadata": {},
   "outputs": [
    {
     "data": {
      "text/plain": [
       "False"
      ]
     },
     "execution_count": 52,
     "metadata": {},
     "output_type": "execute_result"
    }
   ],
   "source": [
    "medallistaXAnio.is_cached"
   ]
  },
  {
   "cell_type": "markdown",
   "metadata": {},
   "source": [
    "Cada vez que necesitamos el recurso Spark necesita \"incovarlo\" de nuevo, pero podemos indicarle a spark que lo guarde en cache."
   ]
  },
  {
   "cell_type": "code",
   "execution_count": 53,
   "metadata": {},
   "outputs": [
    {
     "name": "stderr",
     "output_type": "stream",
     "text": [
      "24/01/18 16:36:29 WARN CSVHeaderChecker: CSV header does not conform to the schema.\n",
      " Header: , nombre_juego\n",
      " Schema: juego_id, anio\n",
      "Expected: juego_id but found: \n",
      "CSV file: file:///home/carloscastau/Documents/platzi/data_engineer/curso-apache-spark-platzi-master/files/juegos.csv\n",
      "24/01/18 16:36:29 WARN CSVHeaderChecker: CSV header does not conform to the schema.\n",
      " Header: evento_id, evento, deporte_id\n",
      " Schema: evento_id, nombre, deporte_id\n",
      "Expected: nombre but found: evento\n",
      "CSV file: file:///home/carloscastau/Documents/platzi/data_engineer/curso-apache-spark-platzi-master/files/evento.csv\n"
     ]
    },
    {
     "data": {
      "text/plain": [
       "MapPartitionsRDD[220] at javaToPython at NativeMethodAccessorImpl.java:0"
      ]
     },
     "execution_count": 53,
     "metadata": {},
     "output_type": "execute_result"
    }
   ],
   "source": [
    "# Creamos la persisttencia\n",
    "medallistaXAnio.rdd.cache()"
   ]
  },
  {
   "cell_type": "markdown",
   "metadata": {},
   "source": [
    "https://spark.apache.org/docs/2.4.6/api/python/pyspark.html#pyspark.StorageLevel"
   ]
  },
  {
   "cell_type": "code",
   "execution_count": 54,
   "metadata": {},
   "outputs": [
    {
     "data": {
      "text/plain": [
       "StorageLevel(False, True, False, False, 1)"
      ]
     },
     "execution_count": 54,
     "metadata": {},
     "output_type": "execute_result"
    }
   ],
   "source": [
    "# Saber el tipo de persistencia y nivel de replicacion\n",
    "medallistaXAnio.rdd.getStorageLevel()"
   ]
  },
  {
   "cell_type": "code",
   "execution_count": 55,
   "metadata": {},
   "outputs": [
    {
     "data": {
      "text/plain": [
       "MapPartitionsRDD[220] at javaToPython at NativeMethodAccessorImpl.java:0"
      ]
     },
     "execution_count": 55,
     "metadata": {},
     "output_type": "execute_result"
    }
   ],
   "source": [
    "# eliminando la persistencia para que no genere error\n",
    "medallistaXAnio.rdd.unpersist()"
   ]
  },
  {
   "cell_type": "code",
   "execution_count": 56,
   "metadata": {},
   "outputs": [
    {
     "data": {
      "text/plain": [
       "MapPartitionsRDD[220] at javaToPython at NativeMethodAccessorImpl.java:0"
      ]
     },
     "execution_count": 56,
     "metadata": {},
     "output_type": "execute_result"
    }
   ],
   "source": [
    "# Usando persistencia MEMORY AND DISK con replicacion 2\n",
    "medallistaXAnio.rdd.persist(StorageLevel.MEMORY_AND_DISK_2)"
   ]
  },
  {
   "cell_type": "code",
   "execution_count": 57,
   "metadata": {},
   "outputs": [
    {
     "data": {
      "text/plain": [
       "StorageLevel(True, True, False, False, 2)"
      ]
     },
     "execution_count": 57,
     "metadata": {},
     "output_type": "execute_result"
    }
   ],
   "source": [
    "# Saber el tipo de persistencia y nivel de replicacion\n",
    "medallistaXAnio.rdd.getStorageLevel()"
   ]
  },
  {
   "cell_type": "code",
   "execution_count": 58,
   "metadata": {},
   "outputs": [
    {
     "data": {
      "text/plain": [
       "MapPartitionsRDD[220] at javaToPython at NativeMethodAccessorImpl.java:0"
      ]
     },
     "execution_count": 58,
     "metadata": {},
     "output_type": "execute_result"
    }
   ],
   "source": [
    "# eliminando la persistencia\n",
    "medallistaXAnio.rdd.unpersist()"
   ]
  },
  {
   "cell_type": "code",
   "execution_count": 59,
   "metadata": {},
   "outputs": [],
   "source": [
    "# Definiendo un StorageLevel custom\n",
    "StorageLevel.MEMORY_AND_DISK_3 = StorageLevel(True, True, False, False, 3)"
   ]
  },
  {
   "cell_type": "code",
   "execution_count": 60,
   "metadata": {},
   "outputs": [
    {
     "data": {
      "text/plain": [
       "MapPartitionsRDD[220] at javaToPython at NativeMethodAccessorImpl.java:0"
      ]
     },
     "execution_count": 60,
     "metadata": {},
     "output_type": "execute_result"
    }
   ],
   "source": [
    "# Persistimos el DataFrame\n",
    "medallistaXAnio.rdd.persist(StorageLevel.MEMORY_AND_DISK_3)"
   ]
  },
  {
   "cell_type": "code",
   "execution_count": 61,
   "metadata": {},
   "outputs": [
    {
     "data": {
      "text/plain": [
       "StorageLevel(True, True, False, False, 3)"
      ]
     },
     "execution_count": 61,
     "metadata": {},
     "output_type": "execute_result"
    }
   ],
   "source": [
    "# Saber el tipo de persistencia y nivel de replicacion\n",
    "medallistaXAnio.rdd.getStorageLevel()"
   ]
  },
  {
   "cell_type": "code",
   "execution_count": 62,
   "metadata": {},
   "outputs": [],
   "source": [
    "spark.stop()"
   ]
  }
 ],
 "metadata": {
  "kernelspec": {
   "display_name": "Python 3",
   "language": "python",
   "name": "python3"
  },
  "language_info": {
   "codemirror_mode": {
    "name": "ipython",
    "version": 3
   },
   "file_extension": ".py",
   "mimetype": "text/x-python",
   "name": "python",
   "nbconvert_exporter": "python",
   "pygments_lexer": "ipython3",
   "version": "3.10.12"
  }
 },
 "nbformat": 4,
 "nbformat_minor": 4
}
